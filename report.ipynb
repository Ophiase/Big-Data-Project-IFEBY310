{
 "cells": [
  {
   "cell_type": "markdown",
   "metadata": {},
   "source": [
    "# Project I - Big Data\n",
    "\n",
    "Author : Ophiase"
   ]
  },
  {
   "cell_type": "code",
   "execution_count": 2,
   "metadata": {},
   "outputs": [
    {
     "name": "stderr",
     "output_type": "stream",
     "text": [
      "/home/astragaliton/anaconda3/lib/python3.11/site-packages/pyspark/pandas/__init__.py:50: UserWarning: 'PYARROW_IGNORE_TIMEZONE' environment variable was not set. It is required to set this environment variable to '1' in both driver and executor sides if you use pyarrow>=2.0.0. pandas-on-Spark will set it for you but it does not work if there is a Spark context already launched.\n",
      "  warnings.warn(\n"
     ]
    }
   ],
   "source": [
    "import warnings\n",
    "warnings.simplefilter(action='ignore', category=FutureWarning)\n",
    "\n",
    "import numpy as np\n",
    "import matplotlib.pyplot as plt\n",
    "import pyspark\n",
    "import logging\n",
    "# Définir le niveau de journalisation sur un niveau supérieur à celui de l'avertissement\n",
    "logging.getLogger(\"pyspark\").setLevel(logging.ERROR)\n",
    "\n",
    "import pyspark.pandas as ps\n",
    "from pyspark.sql import SparkSession\n",
    "from pyspark.sql import Row\n",
    "from pyspark.sql.functions import when, mean, stddev, skewness, kurtosis, expr, date_format\n",
    "import pyspark.sql.functions as pf\n",
    "\n",
    "import altair as alt\n",
    "import plotly\n",
    "import plotly.express as px\n",
    "\n",
    "import scipy\n",
    "from scipy.stats import skew, kurtosis\n",
    "\n",
    "import plotly.graph_objects as go\n",
    "from plotly.subplots import make_subplots\n",
    "\n",
    "\n",
    "import os\n",
    "import requests\n",
    "import pandas as pd\n",
    "import re\n",
    "import pyspark.sql.functions as F\n"
   ]
  },
  {
   "cell_type": "code",
   "execution_count": 3,
   "metadata": {},
   "outputs": [
    {
     "name": "stderr",
     "output_type": "stream",
     "text": [
      "Setting default log level to \"WARN\".\n",
      "To adjust logging level use sc.setLogLevel(newLevel). For SparkR, use setLogLevel(newLevel).\n",
      "24/05/17 22:10:16 WARN NativeCodeLoader: Unable to load native-hadoop library for your platform... using builtin-java classes where applicable\n"
     ]
    }
   ],
   "source": [
    "spark = SparkSession.builder.getOrCreate()"
   ]
  },
  {
   "cell_type": "markdown",
   "metadata": {},
   "source": [
    "## Load the DATA"
   ]
  },
  {
   "cell_type": "code",
   "execution_count": 4,
   "metadata": {},
   "outputs": [
    {
     "name": "stdout",
     "output_type": "stream",
     "text": [
      "Downloading data/2014_citibike_tripdata.csv ...\n",
      "Downloading data/2015_citibike_tripdata.csv ...\n",
      "Downloading data/2016_citibike_tripdata.csv ...\n",
      "Downloading data/2017_citibike_tripdata.csv ...\n",
      "Downloading data/2018_citibike_tripdata.csv ...\n",
      "Downloading data/2019_citibike_tripdata.csv ...\n",
      "Downloading data/2020_citibike_tripdata.csv ...\n",
      "Downloading data/2021_citibike_tripdata.csv ...\n",
      "Downloading data/2022_citibike_tripdata.csv ...\n",
      "Downloading data/2023_citibike_tripdata.csv ...\n"
     ]
    }
   ],
   "source": [
    "# from 2014 to 2023\n",
    "trip_urls = [\n",
    "    (year, f\"https://s3.amazonaws.com/tripdata/{year}-citibike-tripdata.zip\")\n",
    "    for year in range(2014, 2023 + 1)\n",
    "]\n",
    "\n",
    "if not os.path.exists('data') :\n",
    "    os.makedirs('data')\n",
    "\n",
    "for year, url in trip_urls:\n",
    "    filename = os.path.join('data', str(year) + \"_\" + 'citibike_tripdata' + \".csv\")\n",
    "    print(f'Check {filename} ...')\n",
    "\n",
    "    response = requests.get(url, stream=True)\n",
    "    total_size = int(response.headers.get('content-length', 0))\n",
    "    block_size = 1024\n",
    "    progress = 0\n",
    "\n",
    "    if not os.path.exists(filename):\n",
    "        with open(filename, 'wb') as f:\n",
    "            for data in response.iter_content(block_size):\n",
    "                if data:\n",
    "                    f.write(data)\n",
    "                    progress += len(data)\n",
    "                    print(f'\\rDownloaded {progress}/{total_size} bytes', end='')\n",
    "\n",
    "        print(f'\\nDownload complete: {filename}')\n",
    "print(\"Finished\")\n"
   ]
  },
  {
   "cell_type": "code",
   "execution_count": null,
   "metadata": {},
   "outputs": [],
   "source": []
  }
 ],
 "metadata": {
  "kernelspec": {
   "display_name": "base",
   "language": "python",
   "name": "python3"
  },
  "language_info": {
   "codemirror_mode": {
    "name": "ipython",
    "version": 3
   },
   "file_extension": ".py",
   "mimetype": "text/x-python",
   "name": "python",
   "nbconvert_exporter": "python",
   "pygments_lexer": "ipython3",
   "version": "3.11.5"
  }
 },
 "nbformat": 4,
 "nbformat_minor": 2
}
