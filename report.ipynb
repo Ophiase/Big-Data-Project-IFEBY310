{
 "cells": [
  {
   "cell_type": "markdown",
   "metadata": {},
   "source": [
    "# Project I - Big Data\n",
    "\n",
    "Author : Ophiase"
   ]
  },
  {
   "cell_type": "code",
   "execution_count": 1,
   "metadata": {},
   "outputs": [],
   "source": [
    "ENABLE_DOWNLOAD = False\n",
    "ENABLE_UNZIP = False"
   ]
  },
  {
   "cell_type": "markdown",
   "metadata": {},
   "source": [
    "### Dependencies"
   ]
  },
  {
   "cell_type": "code",
   "execution_count": 2,
   "metadata": {},
   "outputs": [],
   "source": [
    "import shutil\n",
    "import os\n",
    "import requests\n",
    "import pandas as pd\n",
    "import re\n",
    "import pyspark.sql.functions as F\n",
    "import zipfile"
   ]
  },
  {
   "cell_type": "code",
   "execution_count": 3,
   "metadata": {},
   "outputs": [
    {
     "name": "stderr",
     "output_type": "stream",
     "text": [
      "/home/astragaliton/anaconda3/lib/python3.11/site-packages/pyspark/pandas/__init__.py:50: UserWarning: 'PYARROW_IGNORE_TIMEZONE' environment variable was not set. It is required to set this environment variable to '1' in both driver and executor sides if you use pyarrow>=2.0.0. pandas-on-Spark will set it for you but it does not work if there is a Spark context already launched.\n",
      "  warnings.warn(\n"
     ]
    }
   ],
   "source": [
    "import warnings\n",
    "warnings.simplefilter(action='ignore', category=FutureWarning)\n",
    "\n",
    "import numpy as np\n",
    "import matplotlib.pyplot as plt\n",
    "import pyspark\n",
    "import logging\n",
    "\n",
    "logging.getLogger(\"pyspark\").setLevel(logging.ERROR)\n",
    "\n",
    "import pyspark.pandas as ps\n",
    "from pyspark.sql import SparkSession\n",
    "from pyspark.sql import Row\n",
    "from pyspark.sql.functions import when, mean, stddev, skewness, kurtosis, expr, date_format\n",
    "import pyspark.sql.functions as pf\n",
    "\n",
    "import altair as alt\n",
    "import plotly\n",
    "import plotly.express as px\n",
    "\n",
    "import scipy\n",
    "from scipy.stats import skew, kurtosis\n",
    "\n",
    "import plotly.graph_objects as go\n",
    "from plotly.subplots import make_subplots\n"
   ]
  },
  {
   "cell_type": "code",
   "execution_count": 4,
   "metadata": {},
   "outputs": [
    {
     "name": "stderr",
     "output_type": "stream",
     "text": [
      "Setting default log level to \"WARN\".\n",
      "To adjust logging level use sc.setLogLevel(newLevel). For SparkR, use setLogLevel(newLevel).\n",
      "24/05/18 17:12:41 WARN NativeCodeLoader: Unable to load native-hadoop library for your platform... using builtin-java classes where applicable\n"
     ]
    }
   ],
   "source": [
    "spark = SparkSession.builder.getOrCreate()"
   ]
  },
  {
   "cell_type": "markdown",
   "metadata": {},
   "source": [
    "## Download the DATA"
   ]
  },
  {
   "cell_type": "code",
   "execution_count": 5,
   "metadata": {},
   "outputs": [
    {
     "name": "stdout",
     "output_type": "stream",
     "text": [
      "Finished\n"
     ]
    }
   ],
   "source": [
    "# from 2014 to 2023\n",
    "trip_urls = [\n",
    "    (year, f\"https://s3.amazonaws.com/tripdata/{year}-citibike-tripdata.zip\")\n",
    "    for year in range(2014, 2023 + 1)\n",
    "]\n",
    "\n",
    "if not os.path.exists(os.path.join('data')) :\n",
    "    os.makedirs('data')\n",
    "\n",
    "zip_files = []\n",
    "\n",
    "for year, url in trip_urls:\n",
    "    basename = os.path.join('data', str(year) + \"_\" + 'citibike_tripdata')\n",
    "    zip_filename = basename + \".zip\"\n",
    "    csv_filename = basename + \".csv\"\n",
    "    zip_files.append((year, zip_filename, csv_filename))\n",
    "\n",
    "    if not ENABLE_DOWNLOAD : continue\n",
    "    print(f'Check {basename} ...')\n",
    "\n",
    "    response = requests.get(url, stream=True)\n",
    "    total_size = int(response.headers.get('content-length', 0))\n",
    "    block_size = 1024\n",
    "    progress = 0\n",
    "\n",
    "    if not os.path.exists(zip_filename) and not os.path.exists(csv_filename) :\n",
    "        with open(zip_filename, 'wb') as f:\n",
    "            for data in response.iter_content(block_size):\n",
    "                if data:\n",
    "                    f.write(data)\n",
    "                    progress += len(data)\n",
    "                    print(f'\\rDownloaded {progress}/{total_size} bytes', end='')\n",
    "\n",
    "        print(f'\\nDownload complete: {zip_filename}')\n",
    "\n",
    "print(\"Finished\")\n"
   ]
  },
  {
   "cell_type": "code",
   "execution_count": 6,
   "metadata": {},
   "outputs": [],
   "source": [
    "if ENABLE_UNZIP :\n",
    "    for (year, zip_filename, csv_filename) in zip_files:\n",
    "        # if year < 2018: continue # WARNING : DISABLE THIS LINE\n",
    "\n",
    "        if not zipfile.is_zipfile(zip_filename):\n",
    "            print(\"Corrupted zip file.\")\n",
    "            break\n",
    "\n",
    "        if os.path.exists(\"tmp\"):\n",
    "            shutil.rmtree(\"tmp\")\n",
    "\n",
    "        print(\"Unzip : \", zip_filename)\n",
    "        with zipfile.ZipFile(zip_filename, 'r') as zip_ref:\n",
    "            zip_ref.extractall(\"tmp\")\n",
    "        print(\"Process ..\")\n",
    "\n",
    "        # find the folder in tmp\n",
    "        items = os.listdir(\"tmp\")\n",
    "        for folder in items :\n",
    "            if not os.path.isdir(os.path.join(\"tmp\", folder)) or \\\n",
    "                folder.startswith(\"__\") :\n",
    "                continue\n",
    "            \n",
    "            # find all the folder in this folder\n",
    "            sub_folders = os.listdir(os.path.join(\"tmp\", folder))\n",
    "            for sub_folder in sub_folders :\n",
    "                if not os.path.isdir(os.path.join(\"tmp\", folder, sub_folder)) or \\\n",
    "                    sub_folder.startswith(\".\") : \n",
    "                    continue\n",
    "                \n",
    "                sub_item = os.listdir(os.path.join(\"tmp\", folder, sub_folder))\n",
    "                for leaf in sub_item :\n",
    "                    # move the csv inside to data\n",
    "                    from_path = os.path.join(\"tmp\", folder, sub_folder, leaf)\n",
    "                    dest_path = os.path.join(\"data\", leaf)\n",
    "                    if os.path.exists(dest_path) : \n",
    "                        os.remove(dest_path)\n",
    "\n",
    "                    shutil.move(from_path, \"data\")\n",
    "\n",
    "    if os.path.exists(\"tmp\"):\n",
    "        shutil.rmtree(\"tmp\")"
   ]
  },
  {
   "cell_type": "markdown",
   "metadata": {},
   "source": [
    "## Convert the Data"
   ]
  },
  {
   "cell_type": "code",
   "execution_count": 10,
   "metadata": {},
   "outputs": [
    {
     "name": "stderr",
     "output_type": "stream",
     "text": [
      "                                                                                \r"
     ]
    }
   ],
   "source": [
    "csv_reader = spark.read.option(\"header\", \"true\") \\\n",
    "            .option(\"inferSchema\", \"true\").csv"
   ]
  },
  {
   "cell_type": "code",
   "execution_count": 15,
   "metadata": {},
   "outputs": [],
   "source": [
    "if False: # check column_names.txt\n",
    "    def find_all_csv():\n",
    "        all_csv = []\n",
    "        for item in os.listdir(\"data\"):\n",
    "            if not item.endswith(\".csv\") :\n",
    "                continue\n",
    "            all_csv.append(item)\n",
    "        return sorted(all_csv)\n",
    "\n",
    "    all_csv = find_all_csv()\n",
    "\n",
    "    for item in all_csv:    \n",
    "        df = csv_reader(os.path.join(\"data\", item))\n",
    "        print(f\"item {item} : {df.columns}\")"
   ]
  },
  {
   "cell_type": "markdown",
   "metadata": {},
   "source": [
    "By looking at the previous code output *(cached in `column_names.txt`)*, \\\n",
    "we notice the following columns between 2014-01 $\\to$ 2021-01 (included) :\n",
    "- `['tripduration', 'starttime', 'stoptime', 'start station id', 'start station name', `\\\n",
    "`'start station latitude', 'start station longitude', 'end station id', 'end station name', `\\\n",
    "`'end station latitude', 'end station longitude', 'bikeid', 'usertype', 'birth year', 'gender']`\n",
    "    - The naming convention is not exactly the same between : `201610-citibike-tripdata_1.csv` $\\to$ `201703-citibike-tripdata.csv_1.csv` : \\\n",
    "    `['Trip Duration', 'Start Time', 'Stop Time', 'Start Station ID',` \\\n",
    "    `'Start Station Name', 'Start Station Latitude', 'Start Station Longitude',` \\\n",
    "    `'End Station ID', 'End Station Name', 'End Station Latitude',` \\\n",
    "    `'End Station Longitude', 'Bike ID', 'User Type', 'Birth Year', 'Gender']`\n",
    "\n",
    "The columns change between 2021-02 $\\to$ 2023-12 (included) :\n",
    "- `['ride_id', 'rideable_type', 'started_at', 'ended_at', 'start_station_name', `\\\n",
    "`'start_station_id', 'end_station_name', 'end_station_id', 'start_lat', `\\\n",
    "`'start_lng', 'end_lat', 'end_lng', 'member_casual']`\n",
    "\n",
    "We decide the following matching :"
   ]
  },
  {
   "cell_type": "code",
   "execution_count": null,
   "metadata": {},
   "outputs": [],
   "source": []
  }
 ],
 "metadata": {
  "kernelspec": {
   "display_name": "base",
   "language": "python",
   "name": "python3"
  },
  "language_info": {
   "codemirror_mode": {
    "name": "ipython",
    "version": 3
   },
   "file_extension": ".py",
   "mimetype": "text/x-python",
   "name": "python",
   "nbconvert_exporter": "python",
   "pygments_lexer": "ipython3",
   "version": "3.11.5"
  }
 },
 "nbformat": 4,
 "nbformat_minor": 2
}
